{
 "cells": [
  {
   "cell_type": "code",
   "execution_count": 1,
   "metadata": {
    "collapsed": true,
    "pycharm": {
     "name": "#%% 图像平滑滤波处理\n",
     "is_executing": false
    }
   },
   "outputs": [
    {
     "data": {
      "text/plain": "-1"
     },
     "metadata": {},
     "output_type": "execute_result",
     "execution_count": 1
    }
   ],
   "source": [
    "#高斯滤波\n",
    "import cv2\n",
    "\n",
    "image = cv2.imread('data/1.jpg')\n",
    "dst = cv2.GaussianBlur(image, (5, 5), 0, 0)\n",
    "cv2.imshow('src', image)\n",
    "cv2.imshow('gauss', dst)\n",
    "cv2.waitKey(0)\n"
   ]
  },
  {
   "cell_type": "code",
   "execution_count": null,
   "outputs": [],
   "source": [
    "import cv2\n",
    "dst = cv2.blur(image, (10, 10))\n",
    "cv2.imshow('blur', dst)\n",
    "\n"
   ],
   "metadata": {
    "collapsed": false,
    "pycharm": {
     "name": "#%% 均值滤波\n"
    }
   }
  },
  {
   "cell_type": "code",
   "execution_count": null,
   "outputs": [],
   "source": [
    "box = cv2.boxFilter(image, -1, (5, 5), normalize=0)\n",
    "cv2.imshow('box', box)\n",
    "\n"
   ],
   "metadata": {
    "collapsed": false,
    "pycharm": {
     "name": "#%% 方框滤波\n"
    }
   }
  },
  {
   "cell_type": "code",
   "execution_count": null,
   "outputs": [],
   "source": [
    "dst = cv2.medianBlur(image, 5)\n",
    "cv2.imshow('median', dst)\n",
    "\n"
   ],
   "metadata": {
    "collapsed": false,
    "pycharm": {
     "name": "#%% 中值滤波\n"
    }
   }
  },
  {
   "cell_type": "code",
   "execution_count": null,
   "outputs": [],
   "source": [
    "dst = cv2.bilateralFilter(image, 55, 100, 100)\n",
    "cv2.imshow('bf', dst)\n",
    "\n"
   ],
   "metadata": {
    "collapsed": false,
    "pycharm": {
     "name": "#%% 双边滤波\n"
    }
   }
  },
  {
   "cell_type": "code",
   "execution_count": null,
   "outputs": [],
   "source": [
    "import numpy as np\n",
    "k = np.ones((13, 13), np.float32) * 2 / 81\n",
    "dst = cv2.filter2D(image, -1, k)\n",
    "cv2.imshow('filter2d', dst)\n",
    "\n",
    "\n"
   ],
   "metadata": {
    "collapsed": false,
    "pycharm": {
     "name": "#%% 2D卷积核的实现\n"
    }
   }
  }
 ],
 "metadata": {
  "language_info": {
   "codemirror_mode": {
    "name": "ipython",
    "version": 2
   },
   "file_extension": ".py",
   "mimetype": "text/x-python",
   "name": "python",
   "nbconvert_exporter": "python",
   "pygments_lexer": "ipython2",
   "version": "2.7.6"
  },
  "kernelspec": {
   "name": "python3",
   "language": "python",
   "display_name": "Python 3"
  },
  "pycharm": {
   "stem_cell": {
    "cell_type": "raw",
    "source": [],
    "metadata": {
     "collapsed": false
    }
   }
  }
 },
 "nbformat": 4,
 "nbformat_minor": 0
}