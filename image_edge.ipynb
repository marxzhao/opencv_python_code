{
 "cells": [
  {
   "cell_type": "code",
   "execution_count": null,
   "metadata": {
    "collapsed": true,
    "pycharm": {
     "name": "#%% 图像边缘与梯度计算\n"
    }
   },
   "outputs": [],
   "source": [
    "#Sobel\n",
    "\n",
    "import cv2\n",
    "import numpy as np\n",
    "\n",
    "image = cv2.imread('data/1.jpg')\n",
    "sobelx = cv2.Sobel(image, cv2.CV_64F, 1, 0)\n",
    "sobelx = cv2.convertScaleAbs(sobelx)\n",
    "sobely = cv2.Sobel(image, cv2.CV_64F, 0, 1)\n",
    "sobely = cv2.convertScaleAbs(sobely)\n",
    "\n",
    "sobelxy = cv2.Sobel(image, cv2.CV_64F, 1, 1)\n",
    "sobelxy = cv2.convertScaleAbs(sobelxy)\n",
    "\n",
    "sobel_wa = cv2.addWeighted(sobelx, 0.5, sobely, 0.5, 0)\n"
   ]
  },
  {
   "cell_type": "code",
   "execution_count": null,
   "outputs": [],
   "source": [
    "scharrx = cv2.convertScaleAbs(cv2.Scharr(image, cv2.CV_64F, 1, 0))\n",
    "scharry = cv2.convertScaleAbs(cv2.Scharr(image, cv2.CV_64F, 0, 1))\n",
    "scharr_wa = cv2.addWeighted(scharrx, 0.5, scharry, 0.5, 0)\n",
    "\n"
   ],
   "metadata": {
    "collapsed": false,
    "pycharm": {
     "name": "#%% Scharr算子\n"
    }
   }
  },
  {
   "cell_type": "code",
   "execution_count": null,
   "outputs": [],
   "source": [
    "edge1 = cv2.Canny(image, 30, 100)\n",
    "edge2 = cv2.Canny(image, 100, 200)\n",
    "edge3 = cv2.Canny(image, 200, 255)\n",
    "\n",
    "cv2.imshow('edge1', edge1)\n",
    "cv2.imshow('edge2', edge2)\n",
    "cv2.imshow('edge3', edge3)\n"
   ],
   "metadata": {
    "collapsed": false,
    "pycharm": {
     "name": "#%% Canny边缘检测\n"
    }
   }
  },
  {
   "cell_type": "code",
   "execution_count": null,
   "outputs": [],
   "source": [
    "lap = cv2.Laplacian(image, cv2.CV_64)\n",
    "lap = cv2.convertScaleAbs(lap)\n",
    "\n",
    "cv2.imshow('lap', lap)"
   ],
   "metadata": {
    "collapsed": false,
    "pycharm": {
     "name": "#%% Laplacian算子\n"
    }
   }
  },
  {
   "cell_type": "code",
   "execution_count": null,
   "outputs": [],
   "source": [
    "import cv2\n",
    "import numpy as np\n",
    "import math\n",
    "from scipy import signal\n",
    "\n",
    "\n",
    "def create_log_kernel(sigma, ksize):\n",
    "    h, w = ksize\n",
    "    log_kernel = np.zeros(ksize, np.float32)\n",
    "    sigmasquare = pow(sigma, 2.0)\n",
    "    centerh = (h - 1) / 2\n",
    "    centerw = (w - 1) / 2\n",
    "    \n",
    "    for r in range(h):\n",
    "        for c in range(w):\n",
    "            norm2 = pow(r-centerh, 2.0) + pow(c - centerw, 2.0)\n",
    "            log_kernel[r][c] = 1.0 / sigmasquare * (norm2 / sigmasquare - 2) * math.exp(-norm2/(2*sigmasquare))\n",
    "        \n",
    "        return log_kernel\n",
    "\n",
    "def LOG(image, sigma, ksize, _boundary='fill', _fillValue=0):\n",
    "    log_kernel = create_log_kernel(sigma, ksize)\n",
    "    \n",
    "    img_conv_log = signal.convolve2d(image, log_kernel, 'same', boundary=_boundary)\n",
    "    \n",
    "    return img_conv_log\n",
    "\n",
    "def edge_binary(img):\n",
    "    edge = np.copy(img)\n",
    "    edge[edge>=0] = 0\n",
    "    edge[edge < 0] = 255\n",
    "    edge = edge.astype(np.uint8)\n",
    "    return edge\n",
    "\n",
    "img1 = LOG(image, 2, (7, 7), 'symm')\n",
    "L1 = edge_binary(img1)\n",
    "\n",
    "cv2.imshow('img1', img1)\n",
    "cv2.imshow('L1', L1)\n",
    "  \n",
    "    \n",
    "\n"
   ],
   "metadata": {
    "collapsed": false,
    "pycharm": {
     "name": "#%% 高斯拉普拉斯算子\n"
    }
   }
  }
 ],
 "metadata": {
  "language_info": {
   "codemirror_mode": {
    "name": "ipython",
    "version": 2
   },
   "file_extension": ".py",
   "mimetype": "text/x-python",
   "name": "python",
   "nbconvert_exporter": "python",
   "pygments_lexer": "ipython2",
   "version": "2.7.6"
  },
  "kernelspec": {
   "name": "python3",
   "language": "python",
   "display_name": "Python 3"
  },
  "pycharm": {
   "stem_cell": {
    "cell_type": "raw",
    "source": [],
    "metadata": {
     "collapsed": false
    }
   }
  }
 },
 "nbformat": 4,
 "nbformat_minor": 0
}