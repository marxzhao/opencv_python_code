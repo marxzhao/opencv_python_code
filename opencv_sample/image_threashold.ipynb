{
 "cells": [
  {
   "cell_type": "code",
   "execution_count": 1,
   "metadata": {
    "collapsed": true,
    "pycharm": {
     "name": "#%% 图像阈值处理\n",
     "is_executing": false
    }
   },
   "outputs": [
    {
     "data": {
      "text/plain": "-1"
     },
     "metadata": {},
     "output_type": "execute_result",
     "execution_count": 1
    }
   ],
   "source": [
    "\n",
    "import cv2\n",
    "import numpy as np\n",
    "\n",
    "image = cv2.imread('data/1.jpg')\n",
    "ret, dst = cv2.threshold(image, 100, 255, cv2.THRESH_BINARY)\n",
    "ret, dst1 = cv2.threshold(image, 100, 255, cv2.THRESH_BINARY_INV)\n",
    "ret, dst2 = cv2.threshold(image, 100, 255, cv2.THRESH_TRUNC)\n",
    "ret, dst3 = cv2.threshold(image, 100, 255, cv2.THRESH_TOZERO)\n",
    "ret, dst4 = cv2.threshold(image, 100, 255, cv2.THRESH_TOZERO_INV)\n",
    "\n",
    "cv2.imshow('src', image)\n",
    "cv2.imshow('dst', dst)\n",
    "cv2.waitKey(0)"
   ]
  },
  {
   "cell_type": "code",
   "execution_count": null,
   "outputs": [],
   "source": [
    "admean = cv2.adaptiveThreshold(image, 255, cv2.ADAPTIVE_THRESH_MEAN_C, cv2.THRESH_BINARY, 5, 3)\n",
    "adgauss = cv2.adaptiveThreshold(image, 255, cv2.ADAPTIVE_THRESH_GAUSSIAN_C, cv2.THRESH_BINARY, 5, 3)\n",
    "\n",
    "cv2.imshow('admean', admean)\n",
    "cv2.imshow('adgauss', adgauss)\n",
    "cv2.waitKey(0)\n",
    "\n",
    "\n"
   ],
   "metadata": {
    "collapsed": false,
    "pycharm": {
     "name": "#%%局部阈值处理\n"
    }
   }
  },
  {
   "cell_type": "code",
   "execution_count": null,
   "outputs": [],
   "source": [
    "t1, thd = cv2.threshold(image, 150, 255, cv2.THRESH_BINARY)\n",
    "t2, ostu = cv2.threshold(image, 0, 255, cv2.THRESH_BINARY + cv2.THRESH_OTSU)\n",
    "\n",
    "cv2.imshow('thd', thd)\n",
    "cv2.imshow('ostu', ostu)\n",
    "\n",
    "\n"
   ],
   "metadata": {
    "collapsed": false,
    "pycharm": {
     "name": "#%% OTSU阈值\n"
    }
   }
  }
 ],
 "metadata": {
  "language_info": {
   "codemirror_mode": {
    "name": "ipython",
    "version": 2
   },
   "file_extension": ".py",
   "mimetype": "text/x-python",
   "name": "python",
   "nbconvert_exporter": "python",
   "pygments_lexer": "ipython2",
   "version": "2.7.6"
  },
  "kernelspec": {
   "name": "python3",
   "language": "python",
   "display_name": "Python 3"
  },
  "pycharm": {
   "stem_cell": {
    "cell_type": "raw",
    "source": [],
    "metadata": {
     "collapsed": false
    }
   }
  }
 },
 "nbformat": 4,
 "nbformat_minor": 0
}