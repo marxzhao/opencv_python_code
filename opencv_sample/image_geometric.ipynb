{
 "cells": [
  {
   "cell_type": "code",
   "execution_count": 1,
   "metadata": {
    "collapsed": true,
    "pycharm": {
     "name": "#%%几何运算\n",
     "is_executing": false
    }
   },
   "outputs": [
    {
     "traceback": [
      "\u001b[1;31m---------------------------------------------------------------------------\u001b[0m",
      "\u001b[1;31mKeyboardInterrupt\u001b[0m                         Traceback (most recent call last)",
      "\u001b[1;32m<ipython-input-1-feb5f5e66200>\u001b[0m in \u001b[0;36m<module>\u001b[1;34m\u001b[0m\n\u001b[0;32m     21\u001b[0m \u001b[0mimage_rotated\u001b[0m \u001b[1;33m=\u001b[0m \u001b[0mcv2\u001b[0m\u001b[1;33m.\u001b[0m\u001b[0mwarpAffine\u001b[0m\u001b[1;33m(\u001b[0m\u001b[0mimage\u001b[0m\u001b[1;33m,\u001b[0m \u001b[0mM\u001b[0m\u001b[1;33m,\u001b[0m \u001b[1;33m(\u001b[0m\u001b[0mw\u001b[0m\u001b[1;33m,\u001b[0m \u001b[0mh\u001b[0m\u001b[1;33m)\u001b[0m\u001b[1;33m)\u001b[0m\u001b[1;33m\u001b[0m\u001b[0m\n\u001b[0;32m     22\u001b[0m \u001b[0mcv2\u001b[0m\u001b[1;33m.\u001b[0m\u001b[0mimshow\u001b[0m\u001b[1;33m(\u001b[0m\u001b[1;34m'rotated'\u001b[0m\u001b[1;33m,\u001b[0m \u001b[0mimage_rotated\u001b[0m\u001b[1;33m)\u001b[0m\u001b[1;33m\u001b[0m\u001b[0m\n\u001b[1;32m---> 23\u001b[1;33m \u001b[0mcv2\u001b[0m\u001b[1;33m.\u001b[0m\u001b[0mwaitKey\u001b[0m\u001b[1;33m(\u001b[0m\u001b[1;36m0\u001b[0m\u001b[1;33m)\u001b[0m\u001b[1;33m\u001b[0m\u001b[0m\n\u001b[0m\u001b[0;32m     24\u001b[0m \u001b[1;33m\u001b[0m\u001b[0m\n",
      "\u001b[1;31mKeyboardInterrupt\u001b[0m: "
     ],
     "ename": "KeyboardInterrupt",
     "evalue": "",
     "output_type": "error"
    }
   ],
   "source": [
    "\n",
    "import cv2\n",
    "import numpy as np\n",
    "\n",
    "image = cv2.imread('data/1.jpg')\n",
    "h, w = image.shape[:2]\n",
    "\n",
    "#平移\n",
    "M = np.float32([[1, 0, 120], [0, 1, -120]])\n",
    "image_move = cv2.warpAffine(image, M, (w, h))\n",
    "cv2.imshow('move', image_move)\n",
    "cv2.imshow('image', image)\n",
    "\n",
    "\n",
    "#缩放\n",
    "M = np.float32([[0.5, 0, 0], [0, 0.5, 0]])\n",
    "image_scale = cv2.warpAffine(image, M, (w, h))\n",
    "cv2.imshow('scale', image_scale)\n",
    "\n",
    "#旋转\n",
    "M = cv2.getRotationMatrix2D((w/3, h/3), 40, 0.4)\n",
    "image_rotated = cv2.warpAffine(image, M, (w, h))\n",
    "cv2.imshow('rotated', image_rotated)\n",
    "cv2.waitKey(0)\n"
   ]
  },
  {
   "cell_type": "code",
   "execution_count": null,
   "outputs": [],
   "source": [],
   "metadata": {
    "collapsed": false,
    "pycharm": {
     "name": "#%%  重映射\n"
    }
   }
  },
  {
   "cell_type": "code",
   "execution_count": 2,
   "outputs": [
    {
     "data": {
      "text/plain": "-1"
     },
     "metadata": {},
     "output_type": "execute_result",
     "execution_count": 2
    }
   ],
   "source": [
    "h, w = image.shape[:2]\n",
    "src = np.array([[0, 0], [w-1, 0], [0, h-1], [w-1, h-1]], np.float32)\n",
    "dst = np.array([[80, 80], [w/2, 50], [80, h-80], [w-40, h-40]], np.float32)\n",
    "\n",
    "M = cv2.getPerspectiveTransform(src, dst)\n",
    "image1 = cv2.warpPerspective(image, M, (w, h), borderValue=125)\n",
    "cv2.imshow('image1', image1)\n",
    "cv2.waitKey(0)\n"
   ],
   "metadata": {
    "collapsed": false,
    "pycharm": {
     "name": "#%% 投影变换\n",
     "is_executing": false
    }
   }
  },
  {
   "cell_type": "code",
   "execution_count": 4,
   "outputs": [
    {
     "data": {
      "text/plain": "32"
     },
     "metadata": {},
     "output_type": "execute_result",
     "execution_count": 4
    }
   ],
   "source": [
    "dst = cv2.linearPolar(image, (251, 249), 255, cv2.INTER_LINEAR)\n",
    "cv2.imshow('dst', dst)\n",
    "\n",
    "\n",
    "dst1 = cv2.logPolar(image, (251, 249), 20, cv2.WARP_FILL_OUTLIERS)\n",
    "cv2.imshow('dst1', dst1)\n",
    "\n",
    "cv2.waitKey(0)\n"
   ],
   "metadata": {
    "collapsed": false,
    "pycharm": {
     "name": "#%% 极坐标变换\n",
     "is_executing": false
    }
   }
  }
 ],
 "metadata": {
  "language_info": {
   "codemirror_mode": {
    "name": "ipython",
    "version": 2
   },
   "file_extension": ".py",
   "mimetype": "text/x-python",
   "name": "python",
   "nbconvert_exporter": "python",
   "pygments_lexer": "ipython2",
   "version": "2.7.6"
  },
  "kernelspec": {
   "name": "python3",
   "language": "python",
   "display_name": "Python 3"
  },
  "pycharm": {
   "stem_cell": {
    "cell_type": "raw",
    "source": [],
    "metadata": {
     "collapsed": false
    }
   }
  }
 },
 "nbformat": 4,
 "nbformat_minor": 0
}