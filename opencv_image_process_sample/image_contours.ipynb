{
 "cells": [
  {
   "cell_type": "code",
   "execution_count": 1,
   "metadata": {
    "collapsed": true,
    "pycharm": {
     "name": "#%%图像轮廓检测与拟合\n",
     "is_executing": false
    }
   },
   "outputs": [
    {
     "data": {
      "text/plain": "-1"
     },
     "metadata": {},
     "output_type": "execute_result",
     "execution_count": 1
    }
   ],
   "source": [
    "#轮廓查找与绘制\n",
    "\n",
    "import cv2\n",
    "import numpy as np\n",
    "\n",
    "image = cv2.imread('data/1.jpg')\n",
    "gray = cv2.cvtColor(image, cv2.COLOR_BGR2GRAY)\n",
    "\n",
    "cv2.imshow('image', image)\n",
    "cv2.imshow('gray', gray)\n",
    "cv2.waitKey(0)\n",
    "\n",
    "ret, thresh = cv2.threshold(gray, 127, 255, cv2.THRESH_BINARY)\n",
    "contours, hierarchy = cv2.findContours(thresh, cv2.RETR_EXTERNAL, cv2.CHAIN_APPROX_SIMPLE)\n",
    "image = cv2.drawContours(image, contours, -1, (0, 0, 255), 3)\n",
    "\n",
    "cv2.imshow('cont', image)\n",
    "\n",
    "print('numbers of contours:', len(contours))\n",
    "print('types of contours', type(contours))\n",
    "\n",
    "mask = np.zeros(image.shape, np.uint8)\n",
    "mask = cv2.drawContours(mask, contours, -1, (255, 255, 255), -1)\n",
    "\n",
    "cv2.imshow('mask', mask)"
   ]
  },
  {
   "cell_type": "code",
   "execution_count": null,
   "outputs": [],
   "source": [
    "\n",
    "length = len(contours)\n",
    "\n",
    "cntlen = []\n",
    "area = []\n",
    "#长度和面积\n",
    "for i in range(length):\n",
    "    cntlen.append(cv2.arcLength(contours[i], True))\n",
    "    print(\"第 %d 个轮廓长度是：%d\".format(i, cntlen[i]))\n",
    "    area.append(cv2.contourArea(contours[i]))\n",
    "    print(\"第 %d 个轮廓面积是：%d\".format(area[i]))\n",
    "\n",
    "#最小外包矩形\n",
    "rect = cv2.minAreaRect(contours[0])\n",
    "points = cv2.boxPoints(rect)\n",
    "points = np.int0(points)\n",
    "img = cv2.drawContours(image, [points], 0, (255, 255, 255), 1)\n",
    "\n",
    "#最小外包圆形\n",
    "cent, rad = cv2.minEnclosingCircle(contours[0])\n",
    "cv2.circle(image, int(cent[0], cent[1]), int(rad), (255, 255, 255), 1)\n",
    "\n",
    "#最小外包三角形\n",
    "area, trg = cv2.minEnclosingTriangle(contours[0])\n",
    "for i in range(0, 3):\n",
    "    cv2.line(image, tuple(trg[i][0]), tuple(trg[(i+1)%3][0]), (255, 255, 255), 1)\n",
    "\n",
    "#最小外包椭圆\n",
    "ellipse = cv2.fitEllipse(contours[0])\n",
    "cv2.ellipse(image, ellipse, (255, 255, 0), 1)"
   ],
   "metadata": {
    "collapsed": false,
    "pycharm": {
     "name": "#%% 轮廓中的周长和面积计算\n"
    }
   }
  },
  {
   "cell_type": "code",
   "execution_count": null,
   "outputs": [],
   "source": [
    "[vx, vy, x, y] = cv2.fitLine(contours[0], cv2.DIST_L2, 0, 0.01, 0.01)\n",
    "row, col = image.shape[:2]\n",
    "ly = int((-x * vy / vx) + y)\n",
    "ry = int(((col - x) * vy / vx) + y)\n",
    "\n",
    "cv2.line(image, (col-1, ry), (0, ly), (255, 255, 255), 2)\n",
    "\n",
    "\n"
   ],
   "metadata": {
    "collapsed": false,
    "pycharm": {
     "name": "#%% 最优直线拟合\n"
    }
   }
  },
  {
   "cell_type": "code",
   "execution_count": null,
   "outputs": [],
   "source": [
    "def houghline_s(img, edges):\n",
    "    lines = cv2.HoughLines(edges, 1, np.pi/180, 100)\n",
    "    for line in lines:\n",
    "        rho, theta = line[0]\n",
    "        a = np.cos(theta)\n",
    "        b = np.sin(theta)\n",
    "        \n",
    "        x0 = a * rho\n",
    "        y0 = b * rho\n",
    "        \n",
    "        x1 = int(x0 + 1000 * (-b))\n",
    "        y1 = int(y0 + 1000 * a)\n",
    "        x2 = int(x0 - 100 * (-b))\n",
    "        y2 = int(y0 - 1000 * a)\n",
    "        \n",
    "        cv2.line(img, (x1, y1), (x2, y2), (255, 255, 255), 2)\n",
    "    \n",
    "    return img\n",
    "\n",
    "def houghline_p(img, edges):\n",
    "    lines = cv2.HoughLinesP(edges, 1, np.pi / 180, 1, minLineLength=50, maxLineGap=1)\n",
    "    for line in lines:\n",
    "        x1, y1, x2, y2 = line[0]\n",
    "        cv2.line(img, (x1, y1), (x2, y2), (255, 255, 255), 2)\n",
    "    \n",
    "    return img\n",
    "\n",
    "edges = cv2.Canny(gray, 10, 200)\n",
    "\n",
    "hough_s = houghline_s(image, edges)\n",
    "hough_p = houghline_p(image, edges)\n",
    "\n",
    "cv2.imshow('hs', hough_s)\n",
    "cv2.imshow('hp', hough_p)\n",
    "\n"
   ],
   "metadata": {
    "collapsed": false,
    "pycharm": {
     "name": "#%% 霍夫检测\n"
    }
   }
  },
  {
   "cell_type": "code",
   "execution_count": null,
   "outputs": [],
   "source": [
    "circles = cv2.HoughCircles(gray, cv2.HOUGH_GRADIENT, 1, 50, param1=50, param2=30, minRadius=5, maxRadius=25)\n",
    "circles = np.uint16(np.around(circles))\n",
    "\n",
    "for i in circles[0, :]:\n",
    "    cv2.circle(image, (i[0], i[1]), i[2], (0, 255, 0), 2)\n",
    "    cv2.circle(image, (i[0], i[1]), 2, (0, 255, 0), 2)\n",
    "    \n",
    "cv2.imshow('cir', circles)\n",
    "\n",
    "\n"
   ],
   "metadata": {
    "collapsed": false,
    "pycharm": {
     "name": "#%% 霍夫圆检测\n"
    }
   }
  },
  {
   "cell_type": "code",
   "execution_count": null,
   "outputs": [],
   "source": [
    "import cv2\n",
    "import numpy as np\n",
    "image = cv2.imshow('data/1.jpg')\n",
    "rows, cols = image.shape[:2]\n",
    "\n",
    "img = cv2.line(image, (0, 0), (rows, cols), (255, 255, 255), 3)\n",
    "\n",
    "img = cv2.rectangle(image, (50, 50), (rows-200, cols-200), (255, 255, 0), 3)\n",
    "\n",
    "img = cv2.circle(image, (255, 255), 20, (255, 255, 255), -1)\n",
    "\n",
    "img = cv2.ellipse(image, (50, 50), (100, 150), 30, 0, 360, (255, 255, 0), 2)\n",
    "\n",
    "cv2.putText(image, \"hello opencv !!!\", (0, 200), cv2.FONT_HERSHEY_COMPLEX, 3, (0, 255, 0), 5)\n",
    "\n"
   ],
   "metadata": {
    "collapsed": false,
    "pycharm": {
     "name": "#%% 绘制函数\n"
    }
   }
  }
 ],
 "metadata": {
  "language_info": {
   "codemirror_mode": {
    "name": "ipython",
    "version": 2
   },
   "file_extension": ".py",
   "mimetype": "text/x-python",
   "name": "python",
   "nbconvert_exporter": "python",
   "pygments_lexer": "ipython2",
   "version": "2.7.6"
  },
  "kernelspec": {
   "name": "python3",
   "language": "python",
   "display_name": "Python 3"
  },
  "pycharm": {
   "stem_cell": {
    "cell_type": "raw",
    "source": [],
    "metadata": {
     "collapsed": false
    }
   }
  }
 },
 "nbformat": 4,
 "nbformat_minor": 0
}