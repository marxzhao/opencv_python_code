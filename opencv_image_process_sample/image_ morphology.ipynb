{
 "cells": [
  {
   "cell_type": "code",
   "execution_count": null,
   "metadata": {
    "collapsed": true,
    "pycharm": {
     "name": "#%% 图像形态学\n"
    }
   },
   "outputs": [],
   "source": [
    "#腐蚀运算\n",
    "import cv2\n",
    "import numpy as np\n",
    "\n",
    "image = cv2.imread('data/1.jpg')\n",
    "k = np.ones((3, 3), np.uint8)\n",
    "img = cv2.erode(image, k, iterations=3)  #迭代3次\n",
    "cv2.imshow('source', image)\n",
    "cv2.imshow('erode', img)\n",
    "cv2.waitKey(0)"
   ]
  },
  {
   "cell_type": "code",
   "execution_count": null,
   "outputs": [],
   "source": [
    "img = cv2.dilate(image, k, iterations=3)\n",
    "cv2.imshow('dilate', img)\n",
    "\n"
   ],
   "metadata": {
    "collapsed": false,
    "pycharm": {
     "name": "#%% 膨胀运算\n"
    }
   }
  },
  {
   "cell_type": "code",
   "execution_count": null,
   "outputs": [],
   "source": [
    "k1 = np.ones((5, 5), np.uint8)\n",
    "img = cv2.morphologyEx(image, cv2.MORPH_GRADIENT, k1)\n",
    "cv2.imshow('gradient', img)\n",
    "\n"
   ],
   "metadata": {
    "collapsed": false,
    "pycharm": {
     "name": "#%% 形态学梯度运算\n"
    }
   }
  },
  {
   "cell_type": "code",
   "execution_count": null,
   "outputs": [],
   "source": [
    "openimg = cv2.morphologyEx(image, cv2.MORPH_OPEN, k1)\n",
    "cv2.imshow('openimg', openimg)\n"
   ],
   "metadata": {
    "collapsed": false,
    "pycharm": {
     "name": "#%% 开运算\n"
    }
   }
  },
  {
   "cell_type": "code",
   "execution_count": null,
   "outputs": [],
   "source": [
    "closeimg = cv2.morphologyEx(image, cv2.MORPH_CLOSE, k1)\n",
    "cv2.imshow('close', closeimg)\n"
   ],
   "metadata": {
    "collapsed": false,
    "pycharm": {
     "name": "#%% 闭运算\n"
    }
   }
  },
  {
   "cell_type": "code",
   "execution_count": null,
   "outputs": [],
   "source": [
    "bhimg = cv2.morphologyEx(image, cv2.MORPH_BLACKHAT, k1)\n",
    "cv2.imshow('bhimg', bhimg)\n"
   ],
   "metadata": {
    "collapsed": false,
    "pycharm": {
     "name": "#%% 黑帽运算\n"
    }
   }
  },
  {
   "cell_type": "code",
   "execution_count": null,
   "outputs": [],
   "source": [
    "bhimg = cv2.morphologyEx(image, cv2.MORPH_TOPHAT, k1)\n",
    "cv2.imshow('bhimg', bhimg)\n",
    "\n"
   ],
   "metadata": {
    "collapsed": false,
    "pycharm": {
     "name": "#%% 礼帽运算\n"
    }
   }
  }
 ],
 "metadata": {
  "language_info": {
   "codemirror_mode": {
    "name": "ipython",
    "version": 2
   },
   "file_extension": ".py",
   "mimetype": "text/x-python",
   "name": "python",
   "nbconvert_exporter": "python",
   "pygments_lexer": "ipython2",
   "version": "2.7.6"
  },
  "kernelspec": {
   "name": "python3",
   "language": "python",
   "display_name": "Python 3"
  },
  "pycharm": {
   "stem_cell": {
    "cell_type": "raw",
    "source": [],
    "metadata": {
     "collapsed": false
    }
   }
  }
 },
 "nbformat": 4,
 "nbformat_minor": 0
}