{
 "cells": [
  {
   "cell_type": "code",
   "execution_count": null,
   "metadata": {
    "collapsed": true,
    "pycharm": {
     "name": "#%% 图像分割\n"
    }
   },
   "outputs": [],
   "source": [
    "#分水岭\n",
    "import cv2\n",
    "import numpy as np\n",
    "\n",
    "imagegray = cv2.imshow('data/1.jpg')\n",
    "ret, thresh = cv2.threshold(imagegray, 0, 255, cv2.THRESH_BINARY_INV+cv2.THRESH_OTSU)\n",
    "kernel = np.ones((3, 3), np.uint8)\n",
    "\n",
    "imageopen = cv2.morphologyEx(thresh, cv2.MORPH_OPEN, kernel, iterations=2)\n",
    "dist = cv2.distanceTransform(imageopen, cv2.DIST_L2, 5)\n",
    "\n",
    "#对距离图像进行阈值处理\n",
    "ret, fore = cv2.threshold(dist, 0.4 * dist.max(), 255, 0)\n",
    "\n",
    "cv2.imshow('gray', imagegray)\n",
    "cv2.imshow('thresh', thresh)\n",
    "cv2.imshow('fore', fore)\n",
    "\n",
    "cv2.waitKey(0)\n",
    "\n"
   ]
  },
  {
   "cell_type": "code",
   "execution_count": null,
   "outputs": [],
   "source": [
    "#对于确定的前景和背景图像 使用标记函数进行标记\n",
    "ret, labels = cv2.threshold(fore)\n",
    "print(ret)\n",
    "cv2.imshow('labels', labels)\n"
   ],
   "metadata": {
    "collapsed": false,
    "pycharm": {
     "name": "#%% 图像标注\n"
    }
   }
  },
  {
   "cell_type": "code",
   "execution_count": null,
   "outputs": [],
   "source": [
    "import cv2\n",
    "import numpy as np\n",
    "import matplotlib.pyplot as plt\n",
    "\n",
    "image = cv2.imread('data/1.jpg')\n",
    "gray = cv2.cvtColor(image, cv2.COLOR_BGR2GRAY)\n",
    "imagergb = cv2.cvtColor(image, cv2.COLOR_BGR2RGB)\n",
    "\n",
    "ret, thresh = cv2.threshold(gray, 0, 255, cv2.THRESH_BINARY_INV + cv2.THRESH_OTSU)\n",
    "kernel = np.ones((3, 3), np.uint8)\n",
    "\n",
    "openimg = cv2.morphologyEx(thresh, cv2.MORPH_OPEN, kernel, iterations=2)\n",
    "sure_bg = cv2.dilate(openimg, kernel, iterations=3)\n",
    "\n",
    "dist = cv2.distanceTransform(openimg, cv2.DIST_L2, 5)\n",
    "ret, sure_fg = cv2.threshold(dist, 0.005 * dist.max(), 255, 0)\n",
    "\n",
    "sure_fg = np.uint8(sure_fg)\n",
    "unknown = cv2.subtract(sure_bg, sure_fg)\n",
    "ret, markers = cv2.connectedComponents(sure_fg)\n",
    "img = cv2.watershed(image, markers)\n",
    "\n",
    "plt.subplot(121)\n",
    "plt.imshow(imagergb)\n",
    "plt.axis('off')\n",
    "plt.subplot(122)\n",
    "plt.imshow(img)\n",
    "plt.axis('off')\n",
    "plt.show()\n",
    "\n"
   ],
   "metadata": {
    "collapsed": false,
    "pycharm": {
     "name": "#%% 分水岭分割\n"
    }
   }
  },
  {
   "cell_type": "code",
   "execution_count": null,
   "outputs": [],
   "source": [
    "#高斯金字塔\n",
    "image = cv2.imread('data/1.jpg')\n",
    "img1 = cv2.pyrDown(image)\n",
    "img2 = cv2.pyrDown(img1)\n",
    "img3 = cv2.pyrDown(img2)\n",
    "\n",
    "cv2.imshow('img1', img1)\n",
    "cv2.imshow('img2', img2)\n",
    "cv2.imshow('img3', img3)\n",
    "\n",
    "cv2.waitKey(0)\n",
    "\n"
   ],
   "metadata": {
    "collapsed": false,
    "pycharm": {
     "name": "#%% 图像金字塔分割\n"
    }
   }
  },
  {
   "cell_type": "code",
   "execution_count": null,
   "outputs": [],
   "source": [
    "dst1 = cv2.pyrUp(image)\n",
    "dst2 = cv2.pyrUp(dst1)\n",
    "dst3 = cv2.pyrUp(dst2)\n",
    "\n",
    "cv2.imshow('dst1', dst1)\n",
    "cv2.imshow('dst2', dst2)\n",
    "cv2.imshow('dst3', dst3)\n",
    "\n",
    "cv2.waitKey(0)\n"
   ],
   "metadata": {
    "collapsed": false,
    "pycharm": {
     "name": "#%% 上采样\n"
    }
   }
  },
  {
   "cell_type": "code",
   "execution_count": null,
   "outputs": [],
   "source": [
    "img0 = image\n",
    "img1 = cv2.pyrDown(img0)\n",
    "img2 = cv2.pyrDown(img1)\n",
    "img3 = cv2.pyrDown(img2)\n",
    "\n",
    "I0 = img0 - cv2.pyrUp(img1)\n",
    "I1 = img1 - cv2.pyrUp(img2)\n",
    "I2 = img2 - cv2.pyrUp(img3)\n",
    "\n",
    "cv2.imshow('i0', I0)\n",
    "cv2.imshow('i1', I1)\n",
    "cv2.imshow('i2', I2)\n",
    "\n"
   ],
   "metadata": {
    "collapsed": false,
    "pycharm": {
     "name": "#%% 拉普拉斯金字塔\n"
    }
   }
  }
 ],
 "metadata": {
  "language_info": {
   "codemirror_mode": {
    "name": "ipython",
    "version": 2
   },
   "file_extension": ".py",
   "mimetype": "text/x-python",
   "name": "python",
   "nbconvert_exporter": "python",
   "pygments_lexer": "ipython2",
   "version": "2.7.6"
  },
  "kernelspec": {
   "name": "python3",
   "language": "python",
   "display_name": "Python 3"
  },
  "pycharm": {
   "stem_cell": {
    "cell_type": "raw",
    "source": [],
    "metadata": {
     "collapsed": false
    }
   }
  }
 },
 "nbformat": 4,
 "nbformat_minor": 0
}