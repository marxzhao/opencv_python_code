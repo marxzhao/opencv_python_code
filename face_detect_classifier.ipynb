{
 "cells": [
  {
   "cell_type": "code",
   "execution_count": null,
   "metadata": {
    "collapsed": true,
    "pycharm": {
     "name": "#%% 人脸检测\n"
    }
   },
   "outputs": [],
   "source": [
    "\n",
    "import cv2\n",
    "import numpy as np\n",
    "\n",
    "image = cv2.imread('data/1.jpg')\n",
    "facecascade = cv2.CascadeClassifier('a.xml')\n",
    "gray = cv2.cvtColor(image, cv2.COLOR_BGR2GRAY)\n",
    "\n",
    "faces = facecascade.detectMultiScale(gray, scaleFactor=1.03, minNeighbors=3, minSize=(3, 3))\n",
    "\n",
    "for (x, y, w, h) in faces:\n",
    "    cv2.circle(image, (int((2*x+w)/2), int((2*y+h)/2)), int(w/2), (0, 255, 0), 2)\n",
    "    \n"
   ]
  },
  {
   "cell_type": "code",
   "execution_count": null,
   "outputs": [],
   "source": [
    "#LBPH\n",
    "\n",
    "images = []\n",
    "labels = []\n",
    "\n",
    "recognizer = cv2.face.LBPHFaceRecognizer_create()\n",
    "recognizer.train(images, np.array(labels))\n",
    "\n",
    "predict_image = cv2.imread('data/1.jpg')\n",
    "label1, confidence1 = recognizer.predict(predict_image)\n",
    "\n",
    "#Fisher Face Recognition\n",
    "recognizer_fisher = cv2.face.FisherFaceRecognizer_create()\n",
    "recognizer_fisher.train(images, np.array(labels))\n",
    "label2, confidence2 = recognizer_fisher.predict(predict_image)\n",
    "\n",
    "#Eigen Face Recognition\n",
    "recognizer_eigen = cv2.face.EigenFaceRecognizer_create()\n",
    "recognizer_eigen.train(images, np.array(labels))\n",
    "label3, confidence3 = recognizer_eigen.predict(predict_image)\n",
    "\n",
    "\n",
    "\n"
   ],
   "metadata": {
    "collapsed": false,
    "pycharm": {
     "name": "#%% 人脸识别\n"
    }
   }
  }
 ],
 "metadata": {
  "language_info": {
   "codemirror_mode": {
    "name": "ipython",
    "version": 2
   },
   "file_extension": ".py",
   "mimetype": "text/x-python",
   "name": "python",
   "nbconvert_exporter": "python",
   "pygments_lexer": "ipython2",
   "version": "2.7.6"
  },
  "kernelspec": {
   "name": "python3",
   "language": "python",
   "display_name": "Python 3"
  },
  "pycharm": {
   "stem_cell": {
    "cell_type": "raw",
    "source": [],
    "metadata": {
     "collapsed": false
    }
   }
  }
 },
 "nbformat": 4,
 "nbformat_minor": 0
}