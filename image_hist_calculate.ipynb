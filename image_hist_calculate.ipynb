{
 "cells": [
  {
   "cell_type": "code",
   "execution_count": null,
   "metadata": {
    "collapsed": true,
    "pycharm": {
     "name": "#%% 图像直方图计算\n"
    }
   },
   "outputs": [],
   "source": [
    "\n",
    "#绘制直方图\n",
    "import cv2\n",
    "import numpy as np\n",
    "import matplotlib.pyplot as plt\n",
    "\n",
    "image = cv2.imread('data/1.jpg')\n",
    "hist = cv2.calcHist([image], [0], None, [256], [0,256])\n",
    "plt.plot(hist)\n",
    "plt.show()\n",
    "\n",
    "#使用plt.hist绘制直方图\n",
    "img = image.reval()\n",
    "plt.hist(img, 256)\n",
    "plt.show()"
   ]
  },
  {
   "cell_type": "code",
   "execution_count": null,
   "outputs": [],
   "source": [
    "import cv2\n",
    "import numpy as np\n",
    "import matplotlib.pyplot as plt\n",
    "image = cv2.imread('data/1.jpg')\n",
    "imagemax = np.max(image)\n",
    "imagemin = np.min(image)\n",
    "\n",
    "min_l = 0\n",
    "max_l = 255\n",
    "m = float(max_l - min_l) / (imagemax - imagemin)\n",
    "n = min_l - min_l * m\n",
    "image1 = m * image + n\n",
    "image1 = image1.astype(np.uint8)\n",
    "\n",
    "cv2.imshow('image', image)\n",
    "cv2.imshow('image1', image1)\n",
    "\n",
    "plt.figure(\"原始直方图\")\n",
    "plt.hist(image.reval(), 256)\n",
    "plt.figure(\"直方图正规化后的直方图\")\n",
    "plt.hist(image1.reval(), 256)\n",
    "plt.show()\n",
    "\n",
    "#使用normalize实现\n",
    "image_nor = cv2.normalize(image, image, 255, 0, cv2.NORM_MINMAX, cv2.CV_8U)\n",
    "plt.hist(image_nor.reval(), 256)\n",
    "plt.show()\n"
   ],
   "metadata": {
    "collapsed": false,
    "pycharm": {
     "name": "#%% 直方图正规化\n"
    }
   }
  },
  {
   "cell_type": "code",
   "execution_count": null,
   "outputs": [],
   "source": [
    "equ = cv2.equalizeHist(image)\n",
    "cv2.imshow('equ', equ)\n",
    "plt.figure('source image!!!')\n",
    "plt.hist(image.reval(), 256)\n",
    "plt.figure('equ image hist!!!')\n",
    "plt.hist(equ.reval(), 256)\n",
    "plt.show()\n",
    "\n"
   ],
   "metadata": {
    "collapsed": false,
    "pycharm": {
     "name": "#%% 直方图均衡化\n"
    }
   }
  },
  {
   "cell_type": "code",
   "execution_count": null,
   "outputs": [],
   "source": [
    "clahe = cv2.createCLAHE(clipLimit=2.0, tileGridSize=(8,8))\n",
    "dst = clahe.apply(image)\n",
    "cv2.imshow('clahe', dst)\n",
    "plt.figure('圆是直方图！！')\n",
    "plt.hist(image.reval(), 256)\n",
    "plt.figure('均衡化！！！')\n",
    "plt.hist(dst.reval(), 256)\n",
    "plt.show()\n",
    "\n",
    "\n"
   ],
   "metadata": {
    "collapsed": false,
    "pycharm": {
     "name": "#%% 自适应直方图均衡化\n"
    }
   }
  }
 ],
 "metadata": {
  "language_info": {
   "codemirror_mode": {
    "name": "ipython",
    "version": 2
   },
   "file_extension": ".py",
   "mimetype": "text/x-python",
   "name": "python",
   "nbconvert_exporter": "python",
   "pygments_lexer": "ipython2",
   "version": "2.7.6"
  },
  "kernelspec": {
   "name": "python3",
   "language": "python",
   "display_name": "Python 3"
  },
  "pycharm": {
   "stem_cell": {
    "cell_type": "raw",
    "source": [],
    "metadata": {
     "collapsed": false
    }
   }
  }
 },
 "nbformat": 4,
 "nbformat_minor": 0
}