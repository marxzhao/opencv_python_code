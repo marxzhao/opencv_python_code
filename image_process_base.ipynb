{
 "cells": [
  {
   "cell_type": "code",
   "execution_count": 3,
   "metadata": {
    "collapsed": true,
    "pycharm": {
     "is_executing": false,
     "name": "#%%图像读取、显示、保持\n"
    }
   },
   "outputs": [
    {
     "data": {
      "text/plain": [
       "32"
      ]
     },
     "execution_count": 3,
     "metadata": {},
     "output_type": "execute_result"
    }
   ],
   "source": [
    "import cv2\n",
    "\n",
    "image = cv2.imread('data/1.jpg')\n",
    "image = cv2.blur(image, (3, 3))\n",
    "cv2.imshow('Window', image)\n",
    "cv2.imwrite('data/2.jpg', image)\n",
    "cv2.waitKey(0)\n",
    "    "
   ]
  },
  {
   "cell_type": "code",
   "execution_count": 4,
   "metadata": {
    "pycharm": {
     "is_executing": false,
     "name": "#%% 拆分 合并\n"
    }
   },
   "outputs": [
    {
     "data": {
      "text/plain": [
       "32"
      ]
     },
     "execution_count": 4,
     "metadata": {},
     "output_type": "execute_result"
    }
   ],
   "source": [
    "\n",
    "b, g, r = cv2.split(image)\n",
    "cv2.imshow('b', b)\n",
    "cv2.imshow('g', g)\n",
    "cv2.imshow('r', r)\n",
    "cv2.waitKey(0)\n",
    "\n",
    "imagebgr = cv2.merge([r,g,b])\n",
    "cv2.imshow('imagebgr', imagebgr)\n",
    "\n",
    "#属性\n",
    "print(imagebgr.shape)\n",
    "print(imagebgr.size)\n",
    "print(imagebgr.dtype)\n"
   ]
  },
  {
   "cell_type": "code",
   "execution_count": 1,
   "metadata": {
    "pycharm": {
     "is_executing": false,
     "name": "#%% 随机产生图像\n"
    }
   },
   "outputs": [
    {
     "data": {
      "text/plain": [
       "-1"
      ]
     },
     "execution_count": 1,
     "metadata": {},
     "output_type": "execute_result"
    }
   ],
   "source": [
    "import numpy as np\n",
    "import cv2\n",
    "\n",
    "imagegray = np.random.randint(0, 256, size=[256, 256], dtype=np.uint8)\n",
    "imagecolor = np.random.randint(0, 256, size=[256, 256, 3], dtype=np.uint8)\n",
    "\n",
    "cv2.imshow('imagegray', imagegray)\n",
    "cv2.imshow('imagecolor', imagecolor)\n",
    "cv2.waitKey(0)\n"
   ]
  },
  {
   "cell_type": "code",
   "execution_count": 2,
   "metadata": {
    "pycharm": {
     "is_executing": false,
     "name": "#%% 图像运算\n"
    }
   },
   "outputs": [
    {
     "name": "stdout",
     "output_type": "stream",
     "text": [
      "[[ 62  51 186  94]\n",
      " [ 94 104 226 114]\n",
      " [ 86 166  38 235]\n",
      " [ 11  96 105  14]] [[161 224  29 114]\n",
      " [235 107  14 130]\n",
      " [ 61 145 225 252]\n",
      " [ 17 232  63  80]] [[223  19 215 208]\n",
      " [ 73 211 240 244]\n",
      " [147  55   7 231]\n",
      " [ 28  72 168  94]]\n"
     ]
    }
   ],
   "source": [
    "#加法运算\n",
    "img1 = np.random.randint(0, 256, size=[4, 4], dtype=np.uint8)\n",
    "img2 = np.random.randint(0, 256, size=[4, 4], dtype=np.uint8)\n",
    "print(img1, img2, img1 + img2)\n",
    "imgadd = cv2.add(img1, img2)\n",
    "print(imgadd)\n",
    "#减法运算\n",
    "print(img1 - img2)\n",
    "imgsub = cv2.subtract(img1, img2)\n",
    "print(imgsub)\n",
    "\n",
    "#乘法运算\n",
    "imgarray1 = cv2.dot(img1, img2)\n",
    "print(imgarray1)\n",
    "imgarray2 = cv2.multiply(img1, img2)\n",
    "print(imgarray2)\n",
    "\n",
    "#除法运算\n",
    "imgdiv1 = cv2.divide(img1, img2)\n",
    "print(imgdiv1)\n",
    "\n",
    "#逻辑运算\n",
    "dst1 = cv2.bitwise_and(img1, img2)\n",
    "dst2 = cv2.bitwise_or(img1, img2)\n",
    "dst3 = cv2.bitwise_not(img1)\n",
    "dst4 = cv2.bitwise_xor(img1, img2)\n",
    "\n",
    "print(dst1, dst2, dst3, dst4)"
   ]
  },
  {
   "cell_type": "code",
   "execution_count": null,
   "metadata": {
    "pycharm": {
     "name": "#%% 颜色空间转换\n"
    }
   },
   "outputs": [],
   "source": [
    "imagegray = cv2.cvtColor(image, cv2.COLOR_BGR2GRAY)\n",
    "imagergb = cv2.cvtColor(image, cv2.COLOR_BGR2RGB)\n",
    "imgcolor = cv2.cvtColor(image, cv2.COLOR_BGR2YCrCb)\n",
    "\n",
    "hsv = cv2.cvtColor(image, cv2.COLOR_BGR2HSV)\n",
    "\n",
    "\n"
   ]
  }
 ],
 "metadata": {
  "kernelspec": {
   "display_name": "Python 3",
   "language": "python",
   "name": "python3"
  },
  "language_info": {
   "codemirror_mode": {
    "name": "ipython",
    "version": 3
   },
   "file_extension": ".py",
   "mimetype": "text/x-python",
   "name": "python",
   "nbconvert_exporter": "python",
   "pygments_lexer": "ipython3",
   "version": "3.6.5"
  },
  "pycharm": {
   "stem_cell": {
    "cell_type": "raw",
    "metadata": {
     "collapsed": false
    },
    "source": []
   }
  }
 },
 "nbformat": 4,
 "nbformat_minor": 1
}
